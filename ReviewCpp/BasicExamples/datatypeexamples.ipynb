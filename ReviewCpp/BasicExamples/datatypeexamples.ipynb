{
 "cells": [
  {
   "cell_type": "markdown",
   "id": "72611159-bd96-4fb8-958e-1353b66287c1",
   "metadata": {},
   "source": [
    "# Real world data type examples\n",
    "\n",
    "(Tim Thomay, 2021, [CC BY 4.0 license](https://creativecommons.org/licenses/by/4.0/))\n",
    "\n",
    "Assume your measurement equipment can take data with a precision of 2ps (pico seconds)"
   ]
  },
  {
   "cell_type": "markdown",
   "id": "7849e2b4-4b69-4b17-a563-28da330dfcaa",
   "metadata": {},
   "source": [
    "### Questions:\n",
    "\n",
    "For how long can you take data (before you get into trouble) for the following ctype data types:\n",
    "- c_int\n",
    "- c_uint\n",
    "- c_float\n",
    "- c_double\n",
    "\n",
    "Which ctype data type gives you the longest measurement time?\n",
    "\n",
    "https://docs.python.org/3/library/ctypes.html#fundamental-data-types"
   ]
  },
  {
   "cell_type": "code",
   "execution_count": null,
   "id": "c7db8b48-e72b-42c1-8c2c-eb6bfbffc882",
   "metadata": {},
   "outputs": [],
   "source": [
    "from ctypes import *"
   ]
  },
  {
   "cell_type": "code",
   "execution_count": null,
   "id": "4d40f9b8-db8b-4883-9379-56d38ee037c6",
   "metadata": {},
   "outputs": [],
   "source": []
  },
  {
   "cell_type": "markdown",
   "id": "d0a30dc2-9dee-4529-b2df-41946e89dbd1",
   "metadata": {},
   "source": [
    "### Python built-in data types\n",
    "\n",
    "How does that compare to the python built-in data types:\n",
    "\n",
    "https://docs.python.org/3/library/stdtypes.html#numeric-types-int-float-complex"
   ]
  },
  {
   "cell_type": "code",
   "execution_count": null,
   "id": "adc4fc23-fdb9-4d95-a10f-3c234c713678",
   "metadata": {},
   "outputs": [],
   "source": []
  },
  {
   "cell_type": "markdown",
   "id": "5717866c-5a15-4fa9-81bf-1db429245103",
   "metadata": {},
   "source": [
    "### Numpy data types\n",
    "\n",
    "How does that compare to the numpy data types:\n",
    "\n",
    "https://numpy.org/doc/stable/reference/arrays.dtypes.html#arrays-dtypes"
   ]
  },
  {
   "cell_type": "code",
   "execution_count": null,
   "id": "43d6821e-e401-4ab2-b5bd-877f23d31663",
   "metadata": {},
   "outputs": [],
   "source": [
    "import numpy as np"
   ]
  },
  {
   "cell_type": "code",
   "execution_count": null,
   "id": "ad397819-67ab-4d13-a3de-02990d4fc638",
   "metadata": {},
   "outputs": [],
   "source": [
    "dt = np.dtype(np.int32)      # 32-bit integer"
   ]
  },
  {
   "cell_type": "code",
   "execution_count": null,
   "id": "69108893-fe82-4a25-8998-eaaa4396420a",
   "metadata": {},
   "outputs": [],
   "source": [
    "dx = np.dtype(np.complex128)"
   ]
  },
  {
   "cell_type": "code",
   "execution_count": null,
   "id": "f47dc368-3525-4fc3-8deb-1f3971f12b49",
   "metadata": {},
   "outputs": [],
   "source": [
    "np.array(10,dt)"
   ]
  },
  {
   "cell_type": "markdown",
   "id": "7b194c7e-4e21-4202-9e7d-def1ae0b4502",
   "metadata": {},
   "source": [
    "### Conversion from numpy to ctypes\n",
    "\n",
    "It is also possible to convert numpy dtypes to ctypes data types\n",
    "\n",
    "**CAVEAT**: no losslessly round-trip"
   ]
  },
  {
   "cell_type": "code",
   "execution_count": null,
   "id": "940ff19b-41fb-45c6-9fb2-4b84d6651228",
   "metadata": {},
   "outputs": [],
   "source": [
    "np.ctypeslib.as_ctypes_type(np.int32)(10)"
   ]
  },
  {
   "cell_type": "code",
   "execution_count": null,
   "id": "8d5cc6cc-349b-4f95-bb27-f6415a87154e",
   "metadata": {},
   "outputs": [],
   "source": [
    "np.dtype(np.ctypeslib.as_ctypes_type(c_int()))"
   ]
  },
  {
   "cell_type": "code",
   "execution_count": null,
   "id": "76355c07-86c9-4114-a236-f26fceec0b41",
   "metadata": {},
   "outputs": [],
   "source": []
  }
 ],
 "metadata": {
  "kernelspec": {
   "display_name": "Python 3 (ipykernel)",
   "language": "python",
   "name": "python3"
  },
  "language_info": {
   "codemirror_mode": {
    "name": "ipython",
    "version": 3
   },
   "file_extension": ".py",
   "mimetype": "text/x-python",
   "name": "python",
   "nbconvert_exporter": "python",
   "pygments_lexer": "ipython3",
   "version": "3.9.5"
  }
 },
 "nbformat": 4,
 "nbformat_minor": 5
}
