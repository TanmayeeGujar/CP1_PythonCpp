{
 "cells": [
  {
   "cell_type": "markdown",
   "id": "72611159-bd96-4fb8-958e-1353b66287c1",
   "metadata": {},
   "source": [
    "# Real world data type examples\n",
    "\n",
    "(Tim Thomay, 2021, [CC BY 4.0 license](https://creativecommons.org/licenses/by/4.0/))\n",
    "\n",
    "Assume your measurement equipment can take data with a precision of 2ps (pico seconds)"
   ]
  },
  {
   "cell_type": "markdown",
   "id": "7849e2b4-4b69-4b17-a563-28da330dfcaa",
   "metadata": {},
   "source": [
    "### Questions:\n",
    "\n",
    "For how long can you take data (before you get into trouble) for the following ctype data types:\n",
    "- c_int\n",
    "- c_uint\n",
    "- c_float\n",
    "- c_double\n",
    "\n",
    "Which ctype data type gives you the longest measurement time?\n",
    "\n",
    "https://docs.python.org/3/library/ctypes.html#fundamental-data-types"
   ]
  },
  {
   "cell_type": "code",
   "execution_count": null,
   "id": "6d3c69eb-546a-481f-8c65-ff239bb395f0",
   "metadata": {},
   "outputs": [],
   "source": [
    "from ctypes import *"
   ]
  },
  {
   "cell_type": "code",
   "execution_count": null,
   "id": "9a8eab41-5de2-435d-82fb-3975188fde98",
   "metadata": {},
   "outputs": [],
   "source": []
  },
  {
   "cell_type": "markdown",
   "id": "84acfe65-2cdf-496a-9218-8b47ea0d3bb3",
   "metadata": {},
   "source": [
    "### Memory size\n",
    "\n",
    "to determine the size of the c datatype (in bytes) you can use the c_types function `sizeof`"
   ]
  },
  {
   "cell_type": "code",
   "execution_count": null,
   "id": "affd659d-3792-41ff-b2f2-b2d75e03e0d8",
   "metadata": {},
   "outputs": [],
   "source": [
    "sizeof(c_longlong())"
   ]
  },
  {
   "cell_type": "markdown",
   "id": "d0a30dc2-9dee-4529-b2df-41946e89dbd1",
   "metadata": {},
   "source": [
    "### Python built-in data types\n",
    "\n",
    "How does that compare to the python built-in data types:\n",
    "\n",
    "https://docs.python.org/3/library/stdtypes.html#numeric-types-int-float-complex"
   ]
  },
  {
   "cell_type": "code",
   "execution_count": 7,
   "id": "adc4fc23-fdb9-4d95-a10f-3c234c713678",
   "metadata": {},
   "outputs": [],
   "source": [
    "# to dtermine the memory footprint (in bytes) of a python variable use `getsizeof` from the sys library\n",
    "from sys import getsizeof"
   ]
  },
  {
   "cell_type": "code",
   "execution_count": null,
   "id": "b1bc56ac-15cb-4932-9b90-0663054b4bdf",
   "metadata": {},
   "outputs": [],
   "source": [
    "d = 1"
   ]
  },
  {
   "cell_type": "code",
   "execution_count": null,
   "id": "8e662489-410e-4674-b3b7-879ffe8ff407",
   "metadata": {},
   "outputs": [],
   "source": [
    "type(d)"
   ]
  },
  {
   "cell_type": "code",
   "execution_count": null,
   "id": "1fa53131-0440-4ddc-bfd2-994f28dbd043",
   "metadata": {},
   "outputs": [],
   "source": [
    "x = int(1)"
   ]
  },
  {
   "cell_type": "code",
   "execution_count": null,
   "id": "186d71d2-e180-49fe-8084-1e4263f37117",
   "metadata": {},
   "outputs": [],
   "source": [
    "type(x)"
   ]
  },
  {
   "cell_type": "code",
   "execution_count": null,
   "id": "3d4a8cec-48e7-4f21-bb78-ee0cd0eddd66",
   "metadata": {},
   "outputs": [],
   "source": [
    "getsizeof(x)"
   ]
  },
  {
   "cell_type": "markdown",
   "id": "5717866c-5a15-4fa9-81bf-1db429245103",
   "metadata": {},
   "source": [
    "### Numpy data types\n",
    "\n",
    "How does that compare to the numpy data types:\n",
    "\n",
    "https://numpy.org/doc/stable/reference/arrays.dtypes.html#arrays-dtypes\n",
    "\n",
    "In numpy to get the size (in bytes of the data type use the property \".itemsize\" and to get the size of the variable (array), use \".nbytes\"."
   ]
  },
  {
   "cell_type": "code",
   "execution_count": 2,
   "id": "43d6821e-e401-4ab2-b5bd-877f23d31663",
   "metadata": {},
   "outputs": [],
   "source": [
    "import numpy as np"
   ]
  },
  {
   "cell_type": "code",
   "execution_count": 10,
   "id": "ad397819-67ab-4d13-a3de-02990d4fc638",
   "metadata": {},
   "outputs": [],
   "source": [
    "dt = np.dtype(np.int32)      # 32-bit integer"
   ]
  },
  {
   "cell_type": "code",
   "execution_count": 11,
   "id": "69108893-fe82-4a25-8998-eaaa4396420a",
   "metadata": {},
   "outputs": [],
   "source": [
    "dx = np.dtype(np.complex128)"
   ]
  },
  {
   "cell_type": "code",
   "execution_count": 12,
   "id": "f47dc368-3525-4fc3-8deb-1f3971f12b49",
   "metadata": {},
   "outputs": [
    {
     "data": {
      "text/plain": [
       "array(10, dtype=int32)"
      ]
     },
     "execution_count": 12,
     "metadata": {},
     "output_type": "execute_result"
    }
   ],
   "source": [
    "np.array(10,dt)"
   ]
  },
  {
   "cell_type": "code",
   "execution_count": 13,
   "id": "6e8178d6-2949-4f53-a798-3f9f8ea6bdab",
   "metadata": {},
   "outputs": [
    {
     "data": {
      "text/plain": [
       "84"
      ]
     },
     "execution_count": 13,
     "metadata": {},
     "output_type": "execute_result"
    }
   ],
   "source": [
    "getsizeof(np.array(10,dt))"
   ]
  },
  {
   "cell_type": "code",
   "execution_count": 14,
   "id": "632a54c4-3a90-4d42-81d6-582ceee0d251",
   "metadata": {},
   "outputs": [
    {
     "data": {
      "text/plain": [
       "4"
      ]
     },
     "execution_count": 14,
     "metadata": {},
     "output_type": "execute_result"
    }
   ],
   "source": [
    "np.array(10,dt).itemsize"
   ]
  },
  {
   "cell_type": "code",
   "execution_count": 18,
   "id": "e8bc7623-9fdb-4914-973e-b7c670a06390",
   "metadata": {},
   "outputs": [
    {
     "data": {
      "text/plain": [
       "4"
      ]
     },
     "execution_count": 18,
     "metadata": {},
     "output_type": "execute_result"
    }
   ],
   "source": [
    "np.array([10,10],dt).itemsize"
   ]
  },
  {
   "cell_type": "code",
   "execution_count": 19,
   "id": "e1c9d55d-2ecc-47d9-b934-910db76e4649",
   "metadata": {},
   "outputs": [
    {
     "data": {
      "text/plain": [
       "8"
      ]
     },
     "execution_count": 19,
     "metadata": {},
     "output_type": "execute_result"
    }
   ],
   "source": [
    "np.array([10,10],dt).nbytes"
   ]
  },
  {
   "cell_type": "markdown",
   "id": "7b194c7e-4e21-4202-9e7d-def1ae0b4502",
   "metadata": {},
   "source": [
    "### Conversion from numpy to ctypes\n",
    "\n",
    "It is also possible to convert numpy dtypes to ctypes data types\n",
    "\n",
    "**CAVEAT**: no losslessly round-trip"
   ]
  },
  {
   "cell_type": "code",
   "execution_count": null,
   "id": "940ff19b-41fb-45c6-9fb2-4b84d6651228",
   "metadata": {},
   "outputs": [],
   "source": [
    "np.ctypeslib.as_ctypes_type(np.int32)(10)"
   ]
  },
  {
   "cell_type": "code",
   "execution_count": null,
   "id": "8d5cc6cc-349b-4f95-bb27-f6415a87154e",
   "metadata": {},
   "outputs": [],
   "source": [
    "np.dtype(np.ctypeslib.as_ctypes_type(c_int()))"
   ]
  },
  {
   "cell_type": "code",
   "execution_count": null,
   "id": "074c9fc7-9526-4680-8062-a1d129a1f0c5",
   "metadata": {},
   "outputs": [],
   "source": []
  }
 ],
 "metadata": {
  "kernelspec": {
   "display_name": "Python 3 (ipykernel)",
   "language": "python",
   "name": "python3"
  },
  "language_info": {
   "codemirror_mode": {
    "name": "ipython",
    "version": 3
   },
   "file_extension": ".py",
   "mimetype": "text/x-python",
   "name": "python",
   "nbconvert_exporter": "python",
   "pygments_lexer": "ipython3",
   "version": "3.9.5"
  }
 },
 "nbformat": 4,
 "nbformat_minor": 5
}
